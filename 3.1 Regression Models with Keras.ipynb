{
 "metadata": {
  "language_info": {
   "codemirror_mode": {
    "name": "ipython",
    "version": 3
   },
   "file_extension": ".py",
   "mimetype": "text/x-python",
   "name": "python",
   "nbconvert_exporter": "python",
   "pygments_lexer": "ipython3",
   "version": "3.8.8"
  },
  "orig_nbformat": 4,
  "kernelspec": {
   "name": "python3",
   "display_name": "Python 3.8.8 64-bit ('base': conda)"
  },
  "interpreter": {
   "hash": "c0f70214c0dd213f07f54ee5d6e0ea644bdbba35113c9bfe8aaa0d1db03ad5dd"
  }
 },
 "nbformat": 4,
 "nbformat_minor": 2,
 "cells": [
  {
   "source": [
    "# IBM Developer Skills Network"
   ],
   "cell_type": "markdown",
   "metadata": {}
  },
  {
   "source": [
    "# Regression model with Keras"
   ],
   "cell_type": "markdown",
   "metadata": {}
  },
  {
   "source": [
    "## Download and Clean Dataset"
   ],
   "cell_type": "markdown",
   "metadata": {}
  },
  {
   "cell_type": "code",
   "execution_count": 2,
   "metadata": {},
   "outputs": [],
   "source": [
    "import pandas as pd\n",
    "import numpy as np"
   ]
  },
  {
   "cell_type": "code",
   "execution_count": 3,
   "metadata": {},
   "outputs": [
    {
     "output_type": "execute_result",
     "data": {
      "text/plain": [
       "   Cement  Blast Furnace Slag  Fly Ash  Water  Superplasticizer  \\\n",
       "0   540.0                 0.0      0.0  162.0               2.5   \n",
       "1   540.0                 0.0      0.0  162.0               2.5   \n",
       "2   332.5               142.5      0.0  228.0               0.0   \n",
       "3   332.5               142.5      0.0  228.0               0.0   \n",
       "4   198.6               132.4      0.0  192.0               0.0   \n",
       "\n",
       "   Coarse Aggregate  Fine Aggregate  Age  Strength  \n",
       "0            1040.0           676.0   28     79.99  \n",
       "1            1055.0           676.0   28     61.89  \n",
       "2             932.0           594.0  270     40.27  \n",
       "3             932.0           594.0  365     41.05  \n",
       "4             978.4           825.5  360     44.30  "
      ],
      "text/html": "<div>\n<style scoped>\n    .dataframe tbody tr th:only-of-type {\n        vertical-align: middle;\n    }\n\n    .dataframe tbody tr th {\n        vertical-align: top;\n    }\n\n    .dataframe thead th {\n        text-align: right;\n    }\n</style>\n<table border=\"1\" class=\"dataframe\">\n  <thead>\n    <tr style=\"text-align: right;\">\n      <th></th>\n      <th>Cement</th>\n      <th>Blast Furnace Slag</th>\n      <th>Fly Ash</th>\n      <th>Water</th>\n      <th>Superplasticizer</th>\n      <th>Coarse Aggregate</th>\n      <th>Fine Aggregate</th>\n      <th>Age</th>\n      <th>Strength</th>\n    </tr>\n  </thead>\n  <tbody>\n    <tr>\n      <th>0</th>\n      <td>540.0</td>\n      <td>0.0</td>\n      <td>0.0</td>\n      <td>162.0</td>\n      <td>2.5</td>\n      <td>1040.0</td>\n      <td>676.0</td>\n      <td>28</td>\n      <td>79.99</td>\n    </tr>\n    <tr>\n      <th>1</th>\n      <td>540.0</td>\n      <td>0.0</td>\n      <td>0.0</td>\n      <td>162.0</td>\n      <td>2.5</td>\n      <td>1055.0</td>\n      <td>676.0</td>\n      <td>28</td>\n      <td>61.89</td>\n    </tr>\n    <tr>\n      <th>2</th>\n      <td>332.5</td>\n      <td>142.5</td>\n      <td>0.0</td>\n      <td>228.0</td>\n      <td>0.0</td>\n      <td>932.0</td>\n      <td>594.0</td>\n      <td>270</td>\n      <td>40.27</td>\n    </tr>\n    <tr>\n      <th>3</th>\n      <td>332.5</td>\n      <td>142.5</td>\n      <td>0.0</td>\n      <td>228.0</td>\n      <td>0.0</td>\n      <td>932.0</td>\n      <td>594.0</td>\n      <td>365</td>\n      <td>41.05</td>\n    </tr>\n    <tr>\n      <th>4</th>\n      <td>198.6</td>\n      <td>132.4</td>\n      <td>0.0</td>\n      <td>192.0</td>\n      <td>0.0</td>\n      <td>978.4</td>\n      <td>825.5</td>\n      <td>360</td>\n      <td>44.30</td>\n    </tr>\n  </tbody>\n</table>\n</div>"
     },
     "metadata": {},
     "execution_count": 3
    }
   ],
   "source": [
    "concrete_data = pd.read_csv('https://raw.githubusercontent.com/sonpn82/Introduction-to-deep-learning-and-neural-network/master/concrete_data.csv')\n",
    "concrete_data.head()"
   ]
  },
  {
   "cell_type": "code",
   "execution_count": 4,
   "metadata": {},
   "outputs": [
    {
     "output_type": "execute_result",
     "data": {
      "text/plain": [
       "(1030, 9)"
      ]
     },
     "metadata": {},
     "execution_count": 4
    }
   ],
   "source": [
    "concrete_data.shape"
   ]
  },
  {
   "cell_type": "code",
   "execution_count": 5,
   "metadata": {},
   "outputs": [
    {
     "output_type": "execute_result",
     "data": {
      "text/plain": [
       "            Cement  Blast Furnace Slag      Fly Ash        Water  \\\n",
       "count  1030.000000         1030.000000  1030.000000  1030.000000   \n",
       "mean    281.167864           73.895825    54.188350   181.567282   \n",
       "std     104.506364           86.279342    63.997004    21.354219   \n",
       "min     102.000000            0.000000     0.000000   121.800000   \n",
       "25%     192.375000            0.000000     0.000000   164.900000   \n",
       "50%     272.900000           22.000000     0.000000   185.000000   \n",
       "75%     350.000000          142.950000   118.300000   192.000000   \n",
       "max     540.000000          359.400000   200.100000   247.000000   \n",
       "\n",
       "       Superplasticizer  Coarse Aggregate  Fine Aggregate          Age  \\\n",
       "count       1030.000000       1030.000000     1030.000000  1030.000000   \n",
       "mean           6.204660        972.918932      773.580485    45.662136   \n",
       "std            5.973841         77.753954       80.175980    63.169912   \n",
       "min            0.000000        801.000000      594.000000     1.000000   \n",
       "25%            0.000000        932.000000      730.950000     7.000000   \n",
       "50%            6.400000        968.000000      779.500000    28.000000   \n",
       "75%           10.200000       1029.400000      824.000000    56.000000   \n",
       "max           32.200000       1145.000000      992.600000   365.000000   \n",
       "\n",
       "          Strength  \n",
       "count  1030.000000  \n",
       "mean     35.817961  \n",
       "std      16.705742  \n",
       "min       2.330000  \n",
       "25%      23.710000  \n",
       "50%      34.445000  \n",
       "75%      46.135000  \n",
       "max      82.600000  "
      ],
      "text/html": "<div>\n<style scoped>\n    .dataframe tbody tr th:only-of-type {\n        vertical-align: middle;\n    }\n\n    .dataframe tbody tr th {\n        vertical-align: top;\n    }\n\n    .dataframe thead th {\n        text-align: right;\n    }\n</style>\n<table border=\"1\" class=\"dataframe\">\n  <thead>\n    <tr style=\"text-align: right;\">\n      <th></th>\n      <th>Cement</th>\n      <th>Blast Furnace Slag</th>\n      <th>Fly Ash</th>\n      <th>Water</th>\n      <th>Superplasticizer</th>\n      <th>Coarse Aggregate</th>\n      <th>Fine Aggregate</th>\n      <th>Age</th>\n      <th>Strength</th>\n    </tr>\n  </thead>\n  <tbody>\n    <tr>\n      <th>count</th>\n      <td>1030.000000</td>\n      <td>1030.000000</td>\n      <td>1030.000000</td>\n      <td>1030.000000</td>\n      <td>1030.000000</td>\n      <td>1030.000000</td>\n      <td>1030.000000</td>\n      <td>1030.000000</td>\n      <td>1030.000000</td>\n    </tr>\n    <tr>\n      <th>mean</th>\n      <td>281.167864</td>\n      <td>73.895825</td>\n      <td>54.188350</td>\n      <td>181.567282</td>\n      <td>6.204660</td>\n      <td>972.918932</td>\n      <td>773.580485</td>\n      <td>45.662136</td>\n      <td>35.817961</td>\n    </tr>\n    <tr>\n      <th>std</th>\n      <td>104.506364</td>\n      <td>86.279342</td>\n      <td>63.997004</td>\n      <td>21.354219</td>\n      <td>5.973841</td>\n      <td>77.753954</td>\n      <td>80.175980</td>\n      <td>63.169912</td>\n      <td>16.705742</td>\n    </tr>\n    <tr>\n      <th>min</th>\n      <td>102.000000</td>\n      <td>0.000000</td>\n      <td>0.000000</td>\n      <td>121.800000</td>\n      <td>0.000000</td>\n      <td>801.000000</td>\n      <td>594.000000</td>\n      <td>1.000000</td>\n      <td>2.330000</td>\n    </tr>\n    <tr>\n      <th>25%</th>\n      <td>192.375000</td>\n      <td>0.000000</td>\n      <td>0.000000</td>\n      <td>164.900000</td>\n      <td>0.000000</td>\n      <td>932.000000</td>\n      <td>730.950000</td>\n      <td>7.000000</td>\n      <td>23.710000</td>\n    </tr>\n    <tr>\n      <th>50%</th>\n      <td>272.900000</td>\n      <td>22.000000</td>\n      <td>0.000000</td>\n      <td>185.000000</td>\n      <td>6.400000</td>\n      <td>968.000000</td>\n      <td>779.500000</td>\n      <td>28.000000</td>\n      <td>34.445000</td>\n    </tr>\n    <tr>\n      <th>75%</th>\n      <td>350.000000</td>\n      <td>142.950000</td>\n      <td>118.300000</td>\n      <td>192.000000</td>\n      <td>10.200000</td>\n      <td>1029.400000</td>\n      <td>824.000000</td>\n      <td>56.000000</td>\n      <td>46.135000</td>\n    </tr>\n    <tr>\n      <th>max</th>\n      <td>540.000000</td>\n      <td>359.400000</td>\n      <td>200.100000</td>\n      <td>247.000000</td>\n      <td>32.200000</td>\n      <td>1145.000000</td>\n      <td>992.600000</td>\n      <td>365.000000</td>\n      <td>82.600000</td>\n    </tr>\n  </tbody>\n</table>\n</div>"
     },
     "metadata": {},
     "execution_count": 5
    }
   ],
   "source": [
    "concrete_data.describe()"
   ]
  },
  {
   "source": [
    "## check number of missing value"
   ],
   "cell_type": "markdown",
   "metadata": {}
  },
  {
   "cell_type": "code",
   "execution_count": 6,
   "metadata": {},
   "outputs": [
    {
     "output_type": "execute_result",
     "data": {
      "text/plain": [
       "Cement                0\n",
       "Blast Furnace Slag    0\n",
       "Fly Ash               0\n",
       "Water                 0\n",
       "Superplasticizer      0\n",
       "Coarse Aggregate      0\n",
       "Fine Aggregate        0\n",
       "Age                   0\n",
       "Strength              0\n",
       "dtype: int64"
      ]
     },
     "metadata": {},
     "execution_count": 6
    }
   ],
   "source": [
    "concrete_data.isnull().sum()"
   ]
  },
  {
   "source": [
    "## Split data into predictors and target"
   ],
   "cell_type": "markdown",
   "metadata": {}
  },
  {
   "cell_type": "code",
   "execution_count": 7,
   "metadata": {},
   "outputs": [],
   "source": [
    "# The target variable is the concrete sample strength\n",
    "concrete_data_columns = concrete_data.columns\n",
    "\n",
    "predictors = concrete_data[concrete_data_columns[concrete_data_columns != 'Strength']]\n",
    "target = concrete_data['Strength']"
   ]
  },
  {
   "cell_type": "code",
   "execution_count": 8,
   "metadata": {},
   "outputs": [
    {
     "output_type": "execute_result",
     "data": {
      "text/plain": [
       "   Cement  Blast Furnace Slag  Fly Ash  Water  Superplasticizer  \\\n",
       "0   540.0                 0.0      0.0  162.0               2.5   \n",
       "1   540.0                 0.0      0.0  162.0               2.5   \n",
       "2   332.5               142.5      0.0  228.0               0.0   \n",
       "3   332.5               142.5      0.0  228.0               0.0   \n",
       "4   198.6               132.4      0.0  192.0               0.0   \n",
       "\n",
       "   Coarse Aggregate  Fine Aggregate  Age  \n",
       "0            1040.0           676.0   28  \n",
       "1            1055.0           676.0   28  \n",
       "2             932.0           594.0  270  \n",
       "3             932.0           594.0  365  \n",
       "4             978.4           825.5  360  "
      ],
      "text/html": "<div>\n<style scoped>\n    .dataframe tbody tr th:only-of-type {\n        vertical-align: middle;\n    }\n\n    .dataframe tbody tr th {\n        vertical-align: top;\n    }\n\n    .dataframe thead th {\n        text-align: right;\n    }\n</style>\n<table border=\"1\" class=\"dataframe\">\n  <thead>\n    <tr style=\"text-align: right;\">\n      <th></th>\n      <th>Cement</th>\n      <th>Blast Furnace Slag</th>\n      <th>Fly Ash</th>\n      <th>Water</th>\n      <th>Superplasticizer</th>\n      <th>Coarse Aggregate</th>\n      <th>Fine Aggregate</th>\n      <th>Age</th>\n    </tr>\n  </thead>\n  <tbody>\n    <tr>\n      <th>0</th>\n      <td>540.0</td>\n      <td>0.0</td>\n      <td>0.0</td>\n      <td>162.0</td>\n      <td>2.5</td>\n      <td>1040.0</td>\n      <td>676.0</td>\n      <td>28</td>\n    </tr>\n    <tr>\n      <th>1</th>\n      <td>540.0</td>\n      <td>0.0</td>\n      <td>0.0</td>\n      <td>162.0</td>\n      <td>2.5</td>\n      <td>1055.0</td>\n      <td>676.0</td>\n      <td>28</td>\n    </tr>\n    <tr>\n      <th>2</th>\n      <td>332.5</td>\n      <td>142.5</td>\n      <td>0.0</td>\n      <td>228.0</td>\n      <td>0.0</td>\n      <td>932.0</td>\n      <td>594.0</td>\n      <td>270</td>\n    </tr>\n    <tr>\n      <th>3</th>\n      <td>332.5</td>\n      <td>142.5</td>\n      <td>0.0</td>\n      <td>228.0</td>\n      <td>0.0</td>\n      <td>932.0</td>\n      <td>594.0</td>\n      <td>365</td>\n    </tr>\n    <tr>\n      <th>4</th>\n      <td>198.6</td>\n      <td>132.4</td>\n      <td>0.0</td>\n      <td>192.0</td>\n      <td>0.0</td>\n      <td>978.4</td>\n      <td>825.5</td>\n      <td>360</td>\n    </tr>\n  </tbody>\n</table>\n</div>"
     },
     "metadata": {},
     "execution_count": 8
    }
   ],
   "source": [
    "predictors.head()"
   ]
  },
  {
   "cell_type": "code",
   "execution_count": 9,
   "metadata": {},
   "outputs": [
    {
     "output_type": "execute_result",
     "data": {
      "text/plain": [
       "0    79.99\n",
       "1    61.89\n",
       "2    40.27\n",
       "3    41.05\n",
       "4    44.30\n",
       "Name: Strength, dtype: float64"
      ]
     },
     "metadata": {},
     "execution_count": 9
    }
   ],
   "source": [
    "target.head()"
   ]
  },
  {
   "source": [
    "## Normalize the data"
   ],
   "cell_type": "markdown",
   "metadata": {}
  },
  {
   "cell_type": "code",
   "execution_count": 10,
   "metadata": {},
   "outputs": [
    {
     "output_type": "execute_result",
     "data": {
      "text/plain": [
       "     Cement  Blast Furnace Slag   Fly Ash     Water  Superplasticizer  \\\n",
       "0  2.476712           -0.856472 -0.846733 -0.916319         -0.620147   \n",
       "1  2.476712           -0.856472 -0.846733 -0.916319         -0.620147   \n",
       "2  0.491187            0.795140 -0.846733  2.174405         -1.038638   \n",
       "3  0.491187            0.795140 -0.846733  2.174405         -1.038638   \n",
       "4 -0.790075            0.678079 -0.846733  0.488555         -1.038638   \n",
       "\n",
       "   Coarse Aggregate  Fine Aggregate       Age  \n",
       "0          0.862735       -1.217079 -0.279597  \n",
       "1          1.055651       -1.217079 -0.279597  \n",
       "2         -0.526262       -2.239829  3.551340  \n",
       "3         -0.526262       -2.239829  5.055221  \n",
       "4          0.070492        0.647569  4.976069  "
      ],
      "text/html": "<div>\n<style scoped>\n    .dataframe tbody tr th:only-of-type {\n        vertical-align: middle;\n    }\n\n    .dataframe tbody tr th {\n        vertical-align: top;\n    }\n\n    .dataframe thead th {\n        text-align: right;\n    }\n</style>\n<table border=\"1\" class=\"dataframe\">\n  <thead>\n    <tr style=\"text-align: right;\">\n      <th></th>\n      <th>Cement</th>\n      <th>Blast Furnace Slag</th>\n      <th>Fly Ash</th>\n      <th>Water</th>\n      <th>Superplasticizer</th>\n      <th>Coarse Aggregate</th>\n      <th>Fine Aggregate</th>\n      <th>Age</th>\n    </tr>\n  </thead>\n  <tbody>\n    <tr>\n      <th>0</th>\n      <td>2.476712</td>\n      <td>-0.856472</td>\n      <td>-0.846733</td>\n      <td>-0.916319</td>\n      <td>-0.620147</td>\n      <td>0.862735</td>\n      <td>-1.217079</td>\n      <td>-0.279597</td>\n    </tr>\n    <tr>\n      <th>1</th>\n      <td>2.476712</td>\n      <td>-0.856472</td>\n      <td>-0.846733</td>\n      <td>-0.916319</td>\n      <td>-0.620147</td>\n      <td>1.055651</td>\n      <td>-1.217079</td>\n      <td>-0.279597</td>\n    </tr>\n    <tr>\n      <th>2</th>\n      <td>0.491187</td>\n      <td>0.795140</td>\n      <td>-0.846733</td>\n      <td>2.174405</td>\n      <td>-1.038638</td>\n      <td>-0.526262</td>\n      <td>-2.239829</td>\n      <td>3.551340</td>\n    </tr>\n    <tr>\n      <th>3</th>\n      <td>0.491187</td>\n      <td>0.795140</td>\n      <td>-0.846733</td>\n      <td>2.174405</td>\n      <td>-1.038638</td>\n      <td>-0.526262</td>\n      <td>-2.239829</td>\n      <td>5.055221</td>\n    </tr>\n    <tr>\n      <th>4</th>\n      <td>-0.790075</td>\n      <td>0.678079</td>\n      <td>-0.846733</td>\n      <td>0.488555</td>\n      <td>-1.038638</td>\n      <td>0.070492</td>\n      <td>0.647569</td>\n      <td>4.976069</td>\n    </tr>\n  </tbody>\n</table>\n</div>"
     },
     "metadata": {},
     "execution_count": 10
    }
   ],
   "source": [
    "predictors_norm = (predictors - predictors.mean()) / predictors.std()\n",
    "predictors_norm.head()"
   ]
  },
  {
   "cell_type": "code",
   "execution_count": 11,
   "metadata": {},
   "outputs": [],
   "source": [
    "# number of predictors for buidling neural network\n",
    "n_cols = predictors_norm.shape[1]"
   ]
  },
  {
   "cell_type": "code",
   "execution_count": 12,
   "metadata": {},
   "outputs": [],
   "source": [
    "import keras"
   ]
  },
  {
   "cell_type": "code",
   "execution_count": 13,
   "metadata": {},
   "outputs": [],
   "source": [
    "from keras.models import Sequential\n",
    "from keras.layers import Dense"
   ]
  },
  {
   "source": [
    "# Build a neural network"
   ],
   "cell_type": "markdown",
   "metadata": {}
  },
  {
   "cell_type": "code",
   "execution_count": 20,
   "metadata": {},
   "outputs": [],
   "source": [
    "def regression_model():\n",
    "    # create the model\n",
    "    model = Sequential()\n",
    "    model.add(Dense(50, activation='relu', input_shape=(n_cols,))) #ReLu activation model, n_cols input number, 50 unit\n",
    "    model.add(Dense(50, activation='relu')) # 50 unit 2nd hidden layer\n",
    "    model.add(Dense(50, activation='relu')) # 50 unit 3rd hidden layer\n",
    "    model.add(Dense(1)) # output layer - 1 unit\n",
    "\n",
    "    # compile model\n",
    "    model.compile(optimizer='adam', loss='mean_squared_error') # using adam instead of gradient descent\n",
    "    return model"
   ]
  },
  {
   "source": [
    "# Train and test the network"
   ],
   "cell_type": "markdown",
   "metadata": {}
  },
  {
   "cell_type": "code",
   "execution_count": 21,
   "metadata": {},
   "outputs": [],
   "source": [
    "model = regression_model()"
   ]
  },
  {
   "cell_type": "code",
   "execution_count": 22,
   "metadata": {},
   "outputs": [
    {
     "output_type": "stream",
     "name": "stdout",
     "text": [
      "Epoch 1/100\n",
      "23/23 - 0s - loss: 1629.4700 - val_loss: 1083.1898\n",
      "Epoch 2/100\n",
      "23/23 - 0s - loss: 1319.7885 - val_loss: 665.5133\n",
      "Epoch 3/100\n",
      "23/23 - 0s - loss: 650.1630 - val_loss: 228.1294\n",
      "Epoch 4/100\n",
      "23/23 - 0s - loss: 286.5405 - val_loss: 207.4781\n",
      "Epoch 5/100\n",
      "23/23 - 0s - loss: 237.3231 - val_loss: 198.9208\n",
      "Epoch 6/100\n",
      "23/23 - 0s - loss: 218.3087 - val_loss: 186.6692\n",
      "Epoch 7/100\n",
      "23/23 - 0s - loss: 203.6433 - val_loss: 188.3108\n",
      "Epoch 8/100\n",
      "23/23 - 0s - loss: 191.2661 - val_loss: 179.9251\n",
      "Epoch 9/100\n",
      "23/23 - 0s - loss: 182.5904 - val_loss: 176.2284\n",
      "Epoch 10/100\n",
      "23/23 - 0s - loss: 173.8150 - val_loss: 177.8702\n",
      "Epoch 11/100\n",
      "23/23 - 0s - loss: 166.7081 - val_loss: 170.5893\n",
      "Epoch 12/100\n",
      "23/23 - 0s - loss: 159.7869 - val_loss: 175.6284\n",
      "Epoch 13/100\n",
      "23/23 - 0s - loss: 154.7299 - val_loss: 163.7203\n",
      "Epoch 14/100\n",
      "23/23 - 0s - loss: 146.6396 - val_loss: 165.9659\n",
      "Epoch 15/100\n",
      "23/23 - 0s - loss: 141.5114 - val_loss: 161.3272\n",
      "Epoch 16/100\n",
      "23/23 - 0s - loss: 134.8639 - val_loss: 159.3285\n",
      "Epoch 17/100\n",
      "23/23 - 0s - loss: 128.7196 - val_loss: 158.8945\n",
      "Epoch 18/100\n",
      "23/23 - 0s - loss: 121.5706 - val_loss: 160.8380\n",
      "Epoch 19/100\n",
      "23/23 - 0s - loss: 113.8923 - val_loss: 150.3868\n",
      "Epoch 20/100\n",
      "23/23 - 0s - loss: 106.8369 - val_loss: 154.2417\n",
      "Epoch 21/100\n",
      "23/23 - 0s - loss: 100.9608 - val_loss: 153.9797\n",
      "Epoch 22/100\n",
      "23/23 - 0s - loss: 97.8024 - val_loss: 154.9555\n",
      "Epoch 23/100\n",
      "23/23 - 0s - loss: 91.0057 - val_loss: 146.7618\n",
      "Epoch 24/100\n",
      "23/23 - 0s - loss: 84.1867 - val_loss: 144.7917\n",
      "Epoch 25/100\n",
      "23/23 - 0s - loss: 79.4091 - val_loss: 141.2164\n",
      "Epoch 26/100\n",
      "23/23 - 0s - loss: 75.0609 - val_loss: 139.8827\n",
      "Epoch 27/100\n",
      "23/23 - 0s - loss: 70.9450 - val_loss: 146.6825\n",
      "Epoch 28/100\n",
      "23/23 - 0s - loss: 70.6664 - val_loss: 146.8146\n",
      "Epoch 29/100\n",
      "23/23 - 0s - loss: 67.1976 - val_loss: 132.9702\n",
      "Epoch 30/100\n",
      "23/23 - 0s - loss: 63.4020 - val_loss: 150.9208\n",
      "Epoch 31/100\n",
      "23/23 - 0s - loss: 60.0493 - val_loss: 125.5585\n",
      "Epoch 32/100\n",
      "23/23 - 0s - loss: 57.7791 - val_loss: 126.1151\n",
      "Epoch 33/100\n",
      "23/23 - 0s - loss: 54.8582 - val_loss: 152.3391\n",
      "Epoch 34/100\n",
      "23/23 - 0s - loss: 53.3436 - val_loss: 144.2391\n",
      "Epoch 35/100\n",
      "23/23 - 0s - loss: 51.1987 - val_loss: 127.2684\n",
      "Epoch 36/100\n",
      "23/23 - 0s - loss: 49.4050 - val_loss: 142.3570\n",
      "Epoch 37/100\n",
      "23/23 - 0s - loss: 47.6219 - val_loss: 136.7073\n",
      "Epoch 38/100\n",
      "23/23 - 0s - loss: 46.7179 - val_loss: 143.6022\n",
      "Epoch 39/100\n",
      "23/23 - 0s - loss: 44.7866 - val_loss: 155.1276\n",
      "Epoch 40/100\n",
      "23/23 - 0s - loss: 44.2986 - val_loss: 156.1351\n",
      "Epoch 41/100\n",
      "23/23 - 0s - loss: 41.5874 - val_loss: 148.6452\n",
      "Epoch 42/100\n",
      "23/23 - 0s - loss: 41.1964 - val_loss: 149.4803\n",
      "Epoch 43/100\n",
      "23/23 - 0s - loss: 42.5140 - val_loss: 154.1191\n",
      "Epoch 44/100\n",
      "23/23 - 0s - loss: 39.8513 - val_loss: 143.0026\n",
      "Epoch 45/100\n",
      "23/23 - 0s - loss: 37.3521 - val_loss: 154.5354\n",
      "Epoch 46/100\n",
      "23/23 - 0s - loss: 38.1165 - val_loss: 156.0620\n",
      "Epoch 47/100\n",
      "23/23 - 0s - loss: 37.0604 - val_loss: 167.7726\n",
      "Epoch 48/100\n",
      "23/23 - 0s - loss: 35.1361 - val_loss: 166.1964\n",
      "Epoch 49/100\n",
      "23/23 - 0s - loss: 35.0971 - val_loss: 174.4499\n",
      "Epoch 50/100\n",
      "23/23 - 0s - loss: 34.3453 - val_loss: 144.3117\n",
      "Epoch 51/100\n",
      "23/23 - 0s - loss: 34.8396 - val_loss: 167.3551\n",
      "Epoch 52/100\n",
      "23/23 - 0s - loss: 32.5675 - val_loss: 166.1342\n",
      "Epoch 53/100\n",
      "23/23 - 0s - loss: 32.3544 - val_loss: 193.3286\n",
      "Epoch 54/100\n",
      "23/23 - 0s - loss: 32.2705 - val_loss: 180.1027\n",
      "Epoch 55/100\n",
      "23/23 - 0s - loss: 30.6652 - val_loss: 174.6181\n",
      "Epoch 56/100\n",
      "23/23 - 0s - loss: 29.8656 - val_loss: 198.9725\n",
      "Epoch 57/100\n",
      "23/23 - 0s - loss: 29.7439 - val_loss: 182.7363\n",
      "Epoch 58/100\n",
      "23/23 - 0s - loss: 29.3348 - val_loss: 165.7230\n",
      "Epoch 59/100\n",
      "23/23 - 0s - loss: 30.9050 - val_loss: 189.4536\n",
      "Epoch 60/100\n",
      "23/23 - 0s - loss: 29.1291 - val_loss: 189.0633\n",
      "Epoch 61/100\n",
      "23/23 - 0s - loss: 28.9763 - val_loss: 195.9338\n",
      "Epoch 62/100\n",
      "23/23 - 0s - loss: 27.5933 - val_loss: 182.2878\n",
      "Epoch 63/100\n",
      "23/23 - 0s - loss: 26.8292 - val_loss: 185.3741\n",
      "Epoch 64/100\n",
      "23/23 - 0s - loss: 26.1904 - val_loss: 202.8955\n",
      "Epoch 65/100\n",
      "23/23 - 0s - loss: 26.4126 - val_loss: 207.1631\n",
      "Epoch 66/100\n",
      "23/23 - 0s - loss: 26.5335 - val_loss: 172.0829\n",
      "Epoch 67/100\n",
      "23/23 - 0s - loss: 25.5565 - val_loss: 178.2895\n",
      "Epoch 68/100\n",
      "23/23 - 0s - loss: 25.0149 - val_loss: 183.3835\n",
      "Epoch 69/100\n",
      "23/23 - 0s - loss: 24.7662 - val_loss: 186.6091\n",
      "Epoch 70/100\n",
      "23/23 - 0s - loss: 25.8869 - val_loss: 190.6905\n",
      "Epoch 71/100\n",
      "23/23 - 0s - loss: 25.2542 - val_loss: 200.8308\n",
      "Epoch 72/100\n",
      "23/23 - 0s - loss: 24.4426 - val_loss: 192.7805\n",
      "Epoch 73/100\n",
      "23/23 - 0s - loss: 23.6195 - val_loss: 194.6349\n",
      "Epoch 74/100\n",
      "23/23 - 0s - loss: 23.3995 - val_loss: 187.4750\n",
      "Epoch 75/100\n",
      "23/23 - 0s - loss: 22.6570 - val_loss: 185.8970\n",
      "Epoch 76/100\n",
      "23/23 - 0s - loss: 22.5652 - val_loss: 188.6689\n",
      "Epoch 77/100\n",
      "23/23 - 0s - loss: 22.0132 - val_loss: 197.2734\n",
      "Epoch 78/100\n",
      "23/23 - 0s - loss: 22.8395 - val_loss: 209.1576\n",
      "Epoch 79/100\n",
      "23/23 - 0s - loss: 22.3160 - val_loss: 190.8595\n",
      "Epoch 80/100\n",
      "23/23 - 0s - loss: 21.4245 - val_loss: 203.5264\n",
      "Epoch 81/100\n",
      "23/23 - 0s - loss: 21.1304 - val_loss: 193.8757\n",
      "Epoch 82/100\n",
      "23/23 - 0s - loss: 21.2070 - val_loss: 202.4143\n",
      "Epoch 83/100\n",
      "23/23 - 0s - loss: 20.8555 - val_loss: 192.6431\n",
      "Epoch 84/100\n",
      "23/23 - 0s - loss: 20.4645 - val_loss: 187.1613\n",
      "Epoch 85/100\n",
      "23/23 - 0s - loss: 20.5232 - val_loss: 206.4565\n",
      "Epoch 86/100\n",
      "23/23 - 0s - loss: 20.3215 - val_loss: 200.5182\n",
      "Epoch 87/100\n",
      "23/23 - 0s - loss: 20.0487 - val_loss: 219.2353\n",
      "Epoch 88/100\n",
      "23/23 - 0s - loss: 20.1712 - val_loss: 193.1635\n",
      "Epoch 89/100\n",
      "23/23 - 0s - loss: 19.4156 - val_loss: 192.7445\n",
      "Epoch 90/100\n",
      "23/23 - 0s - loss: 19.1042 - val_loss: 206.8584\n",
      "Epoch 91/100\n",
      "23/23 - 0s - loss: 18.9912 - val_loss: 195.0465\n",
      "Epoch 92/100\n",
      "23/23 - 0s - loss: 18.4730 - val_loss: 186.0564\n",
      "Epoch 93/100\n",
      "23/23 - 0s - loss: 18.9463 - val_loss: 206.3277\n",
      "Epoch 94/100\n",
      "23/23 - 0s - loss: 19.4230 - val_loss: 229.4578\n",
      "Epoch 95/100\n",
      "23/23 - 0s - loss: 18.9177 - val_loss: 202.6757\n",
      "Epoch 96/100\n",
      "23/23 - 0s - loss: 18.7362 - val_loss: 231.1819\n",
      "Epoch 97/100\n",
      "23/23 - 0s - loss: 18.2194 - val_loss: 204.6232\n",
      "Epoch 98/100\n",
      "23/23 - 0s - loss: 17.9127 - val_loss: 192.5883\n",
      "Epoch 99/100\n",
      "23/23 - 0s - loss: 17.5660 - val_loss: 199.6735\n",
      "Epoch 100/100\n",
      "23/23 - 0s - loss: 17.9656 - val_loss: 208.4616\n"
     ]
    },
    {
     "output_type": "execute_result",
     "data": {
      "text/plain": [
       "<tensorflow.python.keras.callbacks.History at 0x353ebeb0>"
      ]
     },
     "metadata": {},
     "execution_count": 22
    }
   ],
   "source": [
    "model.fit(predictors_norm, target, validation_split=0.3, epochs=100, verbose=2)\n",
    "# validation_split: factor of training data used as validation data, loss is calculated from this data\n",
    "# epochs: number of epoch to train the model: an iteration over the entire dataset\n",
    "# verbose: print out the running process 0: not print 1 & 2 print"
   ]
  },
  {
   "cell_type": "code",
   "execution_count": null,
   "metadata": {},
   "outputs": [],
   "source": []
  }
 ]
}