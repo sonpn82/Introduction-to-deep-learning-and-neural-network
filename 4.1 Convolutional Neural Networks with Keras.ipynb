{
 "metadata": {
  "language_info": {
   "codemirror_mode": {
    "name": "ipython",
    "version": 3
   },
   "file_extension": ".py",
   "mimetype": "text/x-python",
   "name": "python",
   "nbconvert_exporter": "python",
   "pygments_lexer": "ipython3",
   "version": "3.8.8"
  },
  "orig_nbformat": 4,
  "kernelspec": {
   "name": "python3",
   "display_name": "Python 3.8.8 64-bit ('base': conda)"
  },
  "interpreter": {
   "hash": "c0f70214c0dd213f07f54ee5d6e0ea644bdbba35113c9bfe8aaa0d1db03ad5dd"
  }
 },
 "nbformat": 4,
 "nbformat_minor": 2,
 "cells": [
  {
   "source": [
    "# IBM Developer Skills Network"
   ],
   "cell_type": "markdown",
   "metadata": {}
  },
  {
   "source": [
    "# Convolutional Neural Networks with Keras"
   ],
   "cell_type": "markdown",
   "metadata": {}
  },
  {
   "cell_type": "code",
   "execution_count": 1,
   "metadata": {},
   "outputs": [],
   "source": [
    "import keras\n",
    "from keras.models import Sequential\n",
    "from keras.layers import Dense\n",
    "from keras.utils import to_categorical"
   ]
  },
  {
   "cell_type": "code",
   "execution_count": 2,
   "metadata": {},
   "outputs": [],
   "source": [
    "from keras.layers.convolutional import Conv2D   # to add convolutional layers\n",
    "from keras.layers.convolutional import MaxPooling2D  # to add pooling layers\n",
    "from keras.layers import Flatten  # to flatten data for fully connected layers"
   ]
  },
  {
   "source": [
    "## Convolutional layer with one set of convolutional and pooling layers"
   ],
   "cell_type": "markdown",
   "metadata": {}
  },
  {
   "cell_type": "code",
   "execution_count": 17,
   "metadata": {},
   "outputs": [
    {
     "output_type": "stream",
     "name": "stdout",
     "text": [
      "<class 'numpy.ndarray'>\n(60000, 28, 28)\nReshape X_train: (60000, 28, 28, 1)\n"
     ]
    }
   ],
   "source": [
    "# import data\n",
    "from keras.datasets import mnist\n",
    "\n",
    "# load data\n",
    "(X_train, y_train), (X_test, y_test) = mnist.load_data()\n",
    "\n",
    "print(type(X_train))\n",
    "print(X_train.shape)\n",
    "\n",
    "# reshape to be [samples][pixels][width][height]\n",
    "X_train = X_train.reshape(X_train.shape[0], 28, 28, 1).astype('float32')\n",
    "X_test = X_test.reshape(X_test.shape[0], 28, 28, 1).astype('float32')\n",
    "\n",
    "print(\"Reshape X_train:\", X_train.shape)"
   ]
  },
  {
   "source": [
    "## Normalize the pixel to be between 0,1"
   ],
   "cell_type": "markdown",
   "metadata": {}
  },
  {
   "cell_type": "code",
   "execution_count": 18,
   "metadata": {},
   "outputs": [],
   "source": [
    "X_train = X_train / 255\n",
    "X_test = X_test / 255"
   ]
  },
  {
   "source": [
    "## Convert the target variable to  binary categories"
   ],
   "cell_type": "markdown",
   "metadata": {}
  },
  {
   "cell_type": "code",
   "execution_count": 19,
   "metadata": {},
   "outputs": [
    {
     "output_type": "stream",
     "name": "stdout",
     "text": [
      "(10000, 10)\n"
     ]
    }
   ],
   "source": [
    "y_train = to_categorical(y_train)\n",
    "y_test = to_categorical(y_test)\n",
    "\n",
    "print(y_test.shape)\n",
    "\n",
    "num_classes = y_test.shape[1] # umber of categories"
   ]
  },
  {
   "cell_type": "code",
   "execution_count": 20,
   "metadata": {},
   "outputs": [],
   "source": [
    "def convolutional_model():\n",
    "    # create  model\n",
    "    model = Sequential()\n",
    "    model.add(Conv2D(16, (5, 5), strides=(1, 1), activation='relu', input_shape=(28, 28, 1)))\n",
    "    model.add(MaxPooling2D(pool_size=(2, 2), strides=(2, 2)))\n",
    "\n",
    "    model.add(Flatten())\n",
    "    model.add(Dense(100, activation='relu'))\n",
    "    model.add(Dense(num_classes, activation='softmax'))\n",
    "\n",
    "    # compile model\n",
    "    model.compile(optimizer='adam', loss='categorical_crossentropy', metrics=['accuracy'])\n",
    "\n",
    "    return model"
   ]
  },
  {
   "cell_type": "code",
   "execution_count": 21,
   "metadata": {},
   "outputs": [
    {
     "output_type": "stream",
     "name": "stdout",
     "text": [
      "Epoch 1/10\n",
      "300/300 - 13s - loss: 0.3076 - accuracy: 0.9145 - val_loss: 0.1045 - val_accuracy: 0.9706\n",
      "Epoch 2/10\n",
      "300/300 - 13s - loss: 0.0924 - accuracy: 0.9739 - val_loss: 0.0707 - val_accuracy: 0.9781\n",
      "Epoch 3/10\n",
      "300/300 - 11s - loss: 0.0627 - accuracy: 0.9818 - val_loss: 0.0568 - val_accuracy: 0.9815\n",
      "Epoch 4/10\n",
      "300/300 - 10s - loss: 0.0504 - accuracy: 0.9848 - val_loss: 0.0430 - val_accuracy: 0.9851\n",
      "Epoch 5/10\n",
      "300/300 - 9s - loss: 0.0401 - accuracy: 0.9880 - val_loss: 0.0413 - val_accuracy: 0.9858\n",
      "Epoch 6/10\n",
      "300/300 - 11s - loss: 0.0341 - accuracy: 0.9897 - val_loss: 0.0379 - val_accuracy: 0.9871\n",
      "Epoch 7/10\n",
      "300/300 - 12s - loss: 0.0279 - accuracy: 0.9916 - val_loss: 0.0355 - val_accuracy: 0.9878\n",
      "Epoch 8/10\n",
      "300/300 - 12s - loss: 0.0233 - accuracy: 0.9932 - val_loss: 0.0388 - val_accuracy: 0.9862\n",
      "Epoch 9/10\n",
      "300/300 - 13s - loss: 0.0201 - accuracy: 0.9940 - val_loss: 0.0340 - val_accuracy: 0.9882\n",
      "Epoch 10/10\n",
      "300/300 - 13s - loss: 0.0176 - accuracy: 0.9946 - val_loss: 0.0395 - val_accuracy: 0.9877\n",
      "Accuracy: 0.9876999855041504 \n",
      " Error: 1.230001449584961\n"
     ]
    }
   ],
   "source": [
    "# build the model\n",
    "model = convolutional_model()\n",
    "\n",
    "# fit the model\n",
    "model.fit(X_train, y_train, validation_data=(X_test, y_test), epochs=10, batch_size=200, verbose=2)\n",
    "\n",
    "# evaluate the model\n",
    "scores = model.evaluate(X_test, y_test, verbose=0)\n",
    "print(\"Accuracy: {} \\n Error: {}\".format(scores[1], 100-scores[1]*100))"
   ]
  },
  {
   "source": [
    "## Convolutional layer with two sets of convoltional and pooling layers"
   ],
   "cell_type": "markdown",
   "metadata": {}
  },
  {
   "cell_type": "code",
   "execution_count": 22,
   "metadata": {},
   "outputs": [],
   "source": [
    "def convolutional_model():\n",
    "    # create the model\n",
    "    model = Sequential()\n",
    "    model.add(Conv2D(16, (5, 5), activation='relu', input_shape=(28,28,1)))\n",
    "    model.add(MaxPooling2D(pool_size=(2, 2), strides=(2, 2)))\n",
    "\n",
    "    model.add(Conv2D(8, (2, 2), activation='relu'))\n",
    "    model.add(MaxPooling2D(pool_size=(2, 2), strides=(2, 2)))\n",
    "\n",
    "    model.add(Flatten())\n",
    "    model.add(Dense(100, activation='relu'))\n",
    "    model.add(Dense(num_classes, activation='softmax'))\n",
    "\n",
    "    # Compile model\n",
    "    model.compile(optimizer='adam', loss='categorical_crossentropy', metrics=['accuracy'])\n",
    "\n",
    "    return model"
   ]
  },
  {
   "cell_type": "code",
   "execution_count": 23,
   "metadata": {},
   "outputs": [
    {
     "output_type": "stream",
     "name": "stdout",
     "text": [
      "Epoch 1/10\n",
      "300/300 - 15s - loss: 0.4689 - accuracy: 0.8688 - val_loss: 0.1299 - val_accuracy: 0.9601\n",
      "Epoch 2/10\n",
      "300/300 - 16s - loss: 0.1141 - accuracy: 0.9664 - val_loss: 0.0745 - val_accuracy: 0.9767\n",
      "Epoch 3/10\n",
      "300/300 - 15s - loss: 0.0775 - accuracy: 0.9768 - val_loss: 0.0600 - val_accuracy: 0.9811\n",
      "Epoch 4/10\n",
      "300/300 - 14s - loss: 0.0623 - accuracy: 0.9813 - val_loss: 0.0602 - val_accuracy: 0.9815\n",
      "Epoch 5/10\n",
      "300/300 - 12s - loss: 0.0518 - accuracy: 0.9843 - val_loss: 0.0442 - val_accuracy: 0.9860\n",
      "Epoch 6/10\n",
      "300/300 - 13s - loss: 0.0451 - accuracy: 0.9864 - val_loss: 0.0415 - val_accuracy: 0.9865\n",
      "Epoch 7/10\n",
      "300/300 - 16s - loss: 0.0402 - accuracy: 0.9877 - val_loss: 0.0432 - val_accuracy: 0.9852\n",
      "Epoch 8/10\n",
      "300/300 - 16s - loss: 0.0356 - accuracy: 0.9894 - val_loss: 0.0354 - val_accuracy: 0.9886\n",
      "Epoch 9/10\n",
      "300/300 - 16s - loss: 0.0324 - accuracy: 0.9900 - val_loss: 0.0339 - val_accuracy: 0.9883\n",
      "Epoch 10/10\n",
      "300/300 - 16s - loss: 0.0290 - accuracy: 0.9912 - val_loss: 0.0342 - val_accuracy: 0.9887\n",
      "Accuracy: 0.9886999726295471 \n",
      " Error: 1.130002737045288\n"
     ]
    }
   ],
   "source": [
    "# build the model\n",
    "model = convolutional_model()\n",
    "\n",
    "# fit the model\n",
    "model.fit(X_train, y_train, validation_data=(X_test, y_test), epochs=10, batch_size=200, verbose=2)\n",
    "\n",
    "# evaluate the model\n",
    "scores = model.evaluate(X_test, y_test, verbose=0)\n",
    "print(\"Accuracy: {} \\n Error: {}\".format(scores[1], 100-scores[1]*100))"
   ]
  },
  {
   "cell_type": "code",
   "execution_count": null,
   "metadata": {},
   "outputs": [],
   "source": []
  }
 ]
}