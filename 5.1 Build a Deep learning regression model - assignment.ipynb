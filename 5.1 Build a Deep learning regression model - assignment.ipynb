{
 "metadata": {
  "language_info": {
   "codemirror_mode": {
    "name": "ipython",
    "version": 3
   },
   "file_extension": ".py",
   "mimetype": "text/x-python",
   "name": "python",
   "nbconvert_exporter": "python",
   "pygments_lexer": "ipython3",
   "version": "3.8.8"
  },
  "orig_nbformat": 4,
  "kernelspec": {
   "name": "python3",
   "display_name": "Python 3.8.8 64-bit ('base': conda)"
  },
  "interpreter": {
   "hash": "c0f70214c0dd213f07f54ee5d6e0ea644bdbba35113c9bfe8aaa0d1db03ad5dd"
  }
 },
 "nbformat": 4,
 "nbformat_minor": 2,
 "cells": [
  {
   "source": [
    "# IBM Developer Skills Network"
   ],
   "cell_type": "markdown",
   "metadata": {}
  },
  {
   "source": [
    "# Build a Deep Learning Regression Model - Assigment"
   ],
   "cell_type": "markdown",
   "metadata": {}
  },
  {
   "source": [
    "## Import the required libraries"
   ],
   "cell_type": "markdown",
   "metadata": {}
  },
  {
   "cell_type": "code",
   "execution_count": 1,
   "metadata": {},
   "outputs": [],
   "source": [
    "# for data import and clean\n",
    "import pandas as pd  \n",
    "import numpy as np\n",
    "\n",
    "# for train test split\n",
    "from sklearn.model_selection import train_test_split\n",
    "from sklearn.metrics import mean_squared_error\n",
    "\n",
    "# for building neural network\n",
    "import keras\n",
    "from keras.models import Sequential\n",
    "from keras.layers import Dense"
   ]
  },
  {
   "cell_type": "code",
   "execution_count": 2,
   "metadata": {},
   "outputs": [
    {
     "output_type": "execute_result",
     "data": {
      "text/plain": [
       "   Cement  Blast Furnace Slag  Fly Ash  Water  Superplasticizer  \\\n",
       "0   540.0                 0.0      0.0  162.0               2.5   \n",
       "1   540.0                 0.0      0.0  162.0               2.5   \n",
       "2   332.5               142.5      0.0  228.0               0.0   \n",
       "3   332.5               142.5      0.0  228.0               0.0   \n",
       "4   198.6               132.4      0.0  192.0               0.0   \n",
       "\n",
       "   Coarse Aggregate  Fine Aggregate  Age  Strength  \n",
       "0            1040.0           676.0   28     79.99  \n",
       "1            1055.0           676.0   28     61.89  \n",
       "2             932.0           594.0  270     40.27  \n",
       "3             932.0           594.0  365     41.05  \n",
       "4             978.4           825.5  360     44.30  "
      ],
      "text/html": "<div>\n<style scoped>\n    .dataframe tbody tr th:only-of-type {\n        vertical-align: middle;\n    }\n\n    .dataframe tbody tr th {\n        vertical-align: top;\n    }\n\n    .dataframe thead th {\n        text-align: right;\n    }\n</style>\n<table border=\"1\" class=\"dataframe\">\n  <thead>\n    <tr style=\"text-align: right;\">\n      <th></th>\n      <th>Cement</th>\n      <th>Blast Furnace Slag</th>\n      <th>Fly Ash</th>\n      <th>Water</th>\n      <th>Superplasticizer</th>\n      <th>Coarse Aggregate</th>\n      <th>Fine Aggregate</th>\n      <th>Age</th>\n      <th>Strength</th>\n    </tr>\n  </thead>\n  <tbody>\n    <tr>\n      <th>0</th>\n      <td>540.0</td>\n      <td>0.0</td>\n      <td>0.0</td>\n      <td>162.0</td>\n      <td>2.5</td>\n      <td>1040.0</td>\n      <td>676.0</td>\n      <td>28</td>\n      <td>79.99</td>\n    </tr>\n    <tr>\n      <th>1</th>\n      <td>540.0</td>\n      <td>0.0</td>\n      <td>0.0</td>\n      <td>162.0</td>\n      <td>2.5</td>\n      <td>1055.0</td>\n      <td>676.0</td>\n      <td>28</td>\n      <td>61.89</td>\n    </tr>\n    <tr>\n      <th>2</th>\n      <td>332.5</td>\n      <td>142.5</td>\n      <td>0.0</td>\n      <td>228.0</td>\n      <td>0.0</td>\n      <td>932.0</td>\n      <td>594.0</td>\n      <td>270</td>\n      <td>40.27</td>\n    </tr>\n    <tr>\n      <th>3</th>\n      <td>332.5</td>\n      <td>142.5</td>\n      <td>0.0</td>\n      <td>228.0</td>\n      <td>0.0</td>\n      <td>932.0</td>\n      <td>594.0</td>\n      <td>365</td>\n      <td>41.05</td>\n    </tr>\n    <tr>\n      <th>4</th>\n      <td>198.6</td>\n      <td>132.4</td>\n      <td>0.0</td>\n      <td>192.0</td>\n      <td>0.0</td>\n      <td>978.4</td>\n      <td>825.5</td>\n      <td>360</td>\n      <td>44.30</td>\n    </tr>\n  </tbody>\n</table>\n</div>"
     },
     "metadata": {},
     "execution_count": 2
    }
   ],
   "source": [
    "## Download and Clean Dataset\n",
    "concrete_data = pd.read_csv('https://raw.githubusercontent.com/sonpn82/Introduction-to-deep-learning-and-neural-network/master/concrete_data.csv')\n",
    "concrete_data.head()"
   ]
  },
  {
   "cell_type": "code",
   "execution_count": 5,
   "metadata": {},
   "outputs": [
    {
     "output_type": "execute_result",
     "data": {
      "text/plain": [
       "(1030, 9)"
      ]
     },
     "metadata": {},
     "execution_count": 5
    }
   ],
   "source": [
    "concrete_data.shape"
   ]
  },
  {
   "source": [
    "## Check number of missing value"
   ],
   "cell_type": "markdown",
   "metadata": {}
  },
  {
   "cell_type": "code",
   "execution_count": 6,
   "metadata": {},
   "outputs": [
    {
     "output_type": "execute_result",
     "data": {
      "text/plain": [
       "Cement                0\n",
       "Blast Furnace Slag    0\n",
       "Fly Ash               0\n",
       "Water                 0\n",
       "Superplasticizer      0\n",
       "Coarse Aggregate      0\n",
       "Fine Aggregate        0\n",
       "Age                   0\n",
       "Strength              0\n",
       "dtype: int64"
      ]
     },
     "metadata": {},
     "execution_count": 6
    }
   ],
   "source": [
    "concrete_data.isnull().sum()"
   ]
  },
  {
   "source": [
    "## Split data into predictors and target"
   ],
   "cell_type": "markdown",
   "metadata": {}
  },
  {
   "cell_type": "code",
   "execution_count": 3,
   "metadata": {},
   "outputs": [],
   "source": [
    "# The target variable is the concrete sample strength\n",
    "concrete_data_columns = concrete_data.columns\n",
    "\n",
    "predictors = concrete_data[concrete_data_columns[concrete_data_columns != 'Strength']]\n",
    "target = concrete_data['Strength']"
   ]
  },
  {
   "source": [
    "## Build the neural network"
   ],
   "cell_type": "markdown",
   "metadata": {}
  },
  {
   "cell_type": "code",
   "execution_count": 5,
   "metadata": {},
   "outputs": [
    {
     "output_type": "execute_result",
     "data": {
      "text/plain": [
       "8"
      ]
     },
     "metadata": {},
     "execution_count": 5
    }
   ],
   "source": [
    "# number of predictors for buidling neural network\n",
    "n_cols = predictors.shape[1]\n",
    "n_cols"
   ]
  },
  {
   "cell_type": "code",
   "execution_count": 6,
   "metadata": {},
   "outputs": [],
   "source": [
    "# 1 hidden layer of 10 nodes, using ReLU activation function\n",
    "# Use adam optimizer and mean squared error as loss function\n",
    "def regression_model(hid_layer_no=1, hid_node_no=10, act_function='relu', opt_method='adam', loss_method='mean_squared_error'):\n",
    "    # create the model\n",
    "    model = Sequential()\n",
    "\n",
    "    # create the input layer and the 1st hidden layer\n",
    "    model.add(Dense(hid_node_no[0], activation=act_function, input_shape=(n_cols,))) \n",
    "\n",
    "    # add more hidden layer \n",
    "    if hid_layer_no > 1:\n",
    "        for i in range(1, hid_layer_no):\n",
    "            # add the hidden layer\n",
    "            model.add(Dense(hid_node_no[i], activation=act_function)) \n",
    "    \n",
    "    # add the output layer\n",
    "    model.add(Dense(1))\n",
    "\n",
    "    # compile model\n",
    "    model.compile(optimizer=opt_method, loss=loss_method) \n",
    "    return model"
   ]
  },
  {
   "source": [
    "## Train and Test the Network"
   ],
   "cell_type": "markdown",
   "metadata": {}
  },
  {
   "cell_type": "code",
   "execution_count": 7,
   "metadata": {},
   "outputs": [],
   "source": [
    "# Set the parameter\n",
    "hid_layer_no = 1\n",
    "hid_node_no = [10]\n",
    "act_function= 'relu'\n",
    "opt_method = 'adam'\n",
    "loss_method = 'mean_squared_error'\n",
    "\n",
    "model = regression_model(hid_layer_no, hid_node_no, act_function, opt_method, loss_method)"
   ]
  },
  {
   "cell_type": "code",
   "execution_count": 8,
   "metadata": {},
   "outputs": [
    {
     "output_type": "stream",
     "name": "stdout",
     "text": [
      "Finish!\n"
     ]
    }
   ],
   "source": [
    "mse = []\n",
    "for i in range(50):\n",
    "    # Train test split\n",
    "    predict_train, predict_test, target_train, target_test = train_test_split(predictors, target, test_size=0.3, random_state=i)\n",
    "\n",
    "    # Fit the model\n",
    "    model.fit(predict_train, target_train, validation_split=0.3,epochs=50,verbose=0)\n",
    "\n",
    "    # predict the test result\n",
    "    target_predict = model.predict(predict_test)\n",
    "\n",
    "    # mean square error calculation\n",
    "    mse.append(mean_squared_error(target_test, target_predict))\n",
    "\n",
    "print('Finish!')"
   ]
  },
  {
   "cell_type": "code",
   "execution_count": 12,
   "metadata": {},
   "outputs": [
    {
     "output_type": "stream",
     "name": "stdout",
     "text": [
      "Mean squared error: Average= 70.42654546851655\nMean squared error: Standard Deviation= 70.8034036908935\n"
     ]
    }
   ],
   "source": [
    "# Get mean and standard deviation\n",
    "import statistics\n",
    "print('Mean squared error: Average=', statistics.mean(mse))\n",
    "print('Mean squared error: Standard Deviation=', statistics.pstdev(mse))"
   ]
  },
  {
   "source": [
    "## Normalize the data"
   ],
   "cell_type": "markdown",
   "metadata": {}
  },
  {
   "cell_type": "code",
   "execution_count": 14,
   "metadata": {},
   "outputs": [
    {
     "output_type": "execute_result",
     "data": {
      "text/plain": [
       "     Cement  Blast Furnace Slag   Fly Ash     Water  Superplasticizer  \\\n",
       "0  2.476712           -0.856472 -0.846733 -0.916319         -0.620147   \n",
       "1  2.476712           -0.856472 -0.846733 -0.916319         -0.620147   \n",
       "2  0.491187            0.795140 -0.846733  2.174405         -1.038638   \n",
       "3  0.491187            0.795140 -0.846733  2.174405         -1.038638   \n",
       "4 -0.790075            0.678079 -0.846733  0.488555         -1.038638   \n",
       "\n",
       "   Coarse Aggregate  Fine Aggregate       Age  \n",
       "0          0.862735       -1.217079 -0.279597  \n",
       "1          1.055651       -1.217079 -0.279597  \n",
       "2         -0.526262       -2.239829  3.551340  \n",
       "3         -0.526262       -2.239829  5.055221  \n",
       "4          0.070492        0.647569  4.976069  "
      ],
      "text/html": "<div>\n<style scoped>\n    .dataframe tbody tr th:only-of-type {\n        vertical-align: middle;\n    }\n\n    .dataframe tbody tr th {\n        vertical-align: top;\n    }\n\n    .dataframe thead th {\n        text-align: right;\n    }\n</style>\n<table border=\"1\" class=\"dataframe\">\n  <thead>\n    <tr style=\"text-align: right;\">\n      <th></th>\n      <th>Cement</th>\n      <th>Blast Furnace Slag</th>\n      <th>Fly Ash</th>\n      <th>Water</th>\n      <th>Superplasticizer</th>\n      <th>Coarse Aggregate</th>\n      <th>Fine Aggregate</th>\n      <th>Age</th>\n    </tr>\n  </thead>\n  <tbody>\n    <tr>\n      <th>0</th>\n      <td>2.476712</td>\n      <td>-0.856472</td>\n      <td>-0.846733</td>\n      <td>-0.916319</td>\n      <td>-0.620147</td>\n      <td>0.862735</td>\n      <td>-1.217079</td>\n      <td>-0.279597</td>\n    </tr>\n    <tr>\n      <th>1</th>\n      <td>2.476712</td>\n      <td>-0.856472</td>\n      <td>-0.846733</td>\n      <td>-0.916319</td>\n      <td>-0.620147</td>\n      <td>1.055651</td>\n      <td>-1.217079</td>\n      <td>-0.279597</td>\n    </tr>\n    <tr>\n      <th>2</th>\n      <td>0.491187</td>\n      <td>0.795140</td>\n      <td>-0.846733</td>\n      <td>2.174405</td>\n      <td>-1.038638</td>\n      <td>-0.526262</td>\n      <td>-2.239829</td>\n      <td>3.551340</td>\n    </tr>\n    <tr>\n      <th>3</th>\n      <td>0.491187</td>\n      <td>0.795140</td>\n      <td>-0.846733</td>\n      <td>2.174405</td>\n      <td>-1.038638</td>\n      <td>-0.526262</td>\n      <td>-2.239829</td>\n      <td>5.055221</td>\n    </tr>\n    <tr>\n      <th>4</th>\n      <td>-0.790075</td>\n      <td>0.678079</td>\n      <td>-0.846733</td>\n      <td>0.488555</td>\n      <td>-1.038638</td>\n      <td>0.070492</td>\n      <td>0.647569</td>\n      <td>4.976069</td>\n    </tr>\n  </tbody>\n</table>\n</div>"
     },
     "metadata": {},
     "execution_count": 14
    }
   ],
   "source": [
    "predictors_norm = (predictors - predictors.mean()) / predictors.std()\n",
    "predictors_norm.head()"
   ]
  },
  {
   "cell_type": "code",
   "execution_count": 15,
   "metadata": {},
   "outputs": [
    {
     "output_type": "stream",
     "name": "stdout",
     "text": [
      "Finish!\n"
     ]
    }
   ],
   "source": [
    "mse_norm = []\n",
    "for i in range(50):\n",
    "    # Train test split\n",
    "    predict_train, predict_test, target_train, target_test = train_test_split(predictors_norm, target, test_size=0.3, random_state=i)\n",
    "\n",
    "    # Fit the model\n",
    "    model.fit(predict_train, target_train, validation_split=0.3,epochs=50,verbose=0)\n",
    "\n",
    "    # predict the test result\n",
    "    target_predict = model.predict(predict_test)\n",
    "\n",
    "    # mean square error calculation\n",
    "    mse_norm.append(mean_squared_error(target_test, target_predict))\n",
    "\n",
    "print('Finish!')"
   ]
  },
  {
   "cell_type": "code",
   "execution_count": 16,
   "metadata": {},
   "outputs": [
    {
     "output_type": "stream",
     "name": "stdout",
     "text": [
      "Mean squared error: Average= 72.1002747983437\nMean squared error: Standard Deviation= 77.31183496865734\n"
     ]
    }
   ],
   "source": [
    "# Get mean and standard deviation\n",
    "import statistics\n",
    "print('Mean squared error: Average=', statistics.mean(mse_norm))\n",
    "print('Mean squared error: Standard Deviation=', statistics.pstdev(mse_norm))"
   ]
  },
  {
   "source": [
    "### Mean square error is not much different between original data (70.4) and normalized data (72.1)"
   ],
   "cell_type": "markdown",
   "metadata": {}
  },
  {
   "cell_type": "code",
   "execution_count": 17,
   "metadata": {},
   "outputs": [
    {
     "output_type": "stream",
     "name": "stdout",
     "text": [
      "Finish!\n"
     ]
    }
   ],
   "source": [
    "mse_norm_100 = []\n",
    "for i in range(50):\n",
    "    # Train test split\n",
    "    predict_train, predict_test, target_train, target_test = train_test_split(predictors_norm, target, test_size=0.3, random_state=i)\n",
    "\n",
    "    # Fit the model\n",
    "    model.fit(predict_train, target_train, validation_split=0.3,epochs=100,verbose=0)\n",
    "\n",
    "    # predict the test result\n",
    "    target_predict = model.predict(predict_test)\n",
    "\n",
    "    # mean square error calculation\n",
    "    mse_norm_100.append(mean_squared_error(target_test, target_predict))\n",
    "\n",
    "print('Finish!')"
   ]
  },
  {
   "cell_type": "code",
   "execution_count": 18,
   "metadata": {},
   "outputs": [
    {
     "output_type": "stream",
     "name": "stdout",
     "text": [
      "Mean squared error: Average= 34.815191631755575\nMean squared error: Standard Deviation= 3.289390824167354\n"
     ]
    }
   ],
   "source": [
    "# Get mean and standard deviation\n",
    "import statistics\n",
    "print('Mean squared error: Average=', statistics.mean(mse_norm_100))\n",
    "print('Mean squared error: Standard Deviation=', statistics.pstdev(mse_norm_100))"
   ]
  },
  {
   "source": [
    "### Mean square error of 100 epochs model is much lower than 50 epochs model (34.8 vs 72.1)"
   ],
   "cell_type": "markdown",
   "metadata": {}
  },
  {
   "source": [
    "## Change the neural network to 3 hidden layers"
   ],
   "cell_type": "markdown",
   "metadata": {}
  },
  {
   "cell_type": "code",
   "execution_count": 20,
   "metadata": {},
   "outputs": [],
   "source": [
    "# Set the parameter\n",
    "hid_layer_no = 3\n",
    "hid_node_no = [10,10,10]\n",
    "act_function= 'relu'\n",
    "opt_method = 'adam'\n",
    "loss_method = 'mean_squared_error'\n",
    "\n",
    "model_3layer = regression_model(hid_layer_no, hid_node_no, act_function, opt_method, loss_method)"
   ]
  },
  {
   "cell_type": "code",
   "execution_count": 21,
   "metadata": {},
   "outputs": [
    {
     "output_type": "stream",
     "name": "stdout",
     "text": [
      "Finish!\n"
     ]
    }
   ],
   "source": [
    "mse_norm_3layer = []\n",
    "for i in range(50):\n",
    "    # Train test split\n",
    "    predict_train, predict_test, target_train, target_test = train_test_split(predictors_norm, target, test_size=0.3, random_state=i)\n",
    "\n",
    "    # Fit the model\n",
    "    model_3layer.fit(predict_train, target_train, validation_split=0.3,epochs=50,verbose=0)\n",
    "\n",
    "    # predict the test result\n",
    "    target_predict = model_3layer.predict(predict_test)\n",
    "\n",
    "    # mean square error calculation\n",
    "    mse_norm_3layer.append(mean_squared_error(target_test, target_predict))\n",
    "\n",
    "print('Finish!')"
   ]
  },
  {
   "cell_type": "code",
   "execution_count": 22,
   "metadata": {},
   "outputs": [
    {
     "output_type": "stream",
     "name": "stdout",
     "text": [
      "Mean squared error: Average= 51.32451736831406\nMean squared error: Standard Deviation= 32.17597857387679\n"
     ]
    }
   ],
   "source": [
    "# Get mean and standard deviation\n",
    "import statistics\n",
    "print('Mean squared error: Average=', statistics.mean(mse_norm_3layer))\n",
    "print('Mean squared error: Standard Deviation=', statistics.pstdev(mse_norm_3layer))"
   ]
  },
  {
   "source": [
    "### Mean squared error of 3 layers model is lower than 1 layer model (51.3 vs 72.1)"
   ],
   "cell_type": "markdown",
   "metadata": {}
  },
  {
   "cell_type": "code",
   "execution_count": null,
   "metadata": {},
   "outputs": [],
   "source": []
  }
 ]
}